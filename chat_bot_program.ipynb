{
  "nbformat": 4,
  "nbformat_minor": 0,
  "metadata": {
    "colab": {
      "provenance": [],
      "authorship_tag": "ABX9TyM63SMtazvoHMwmTuyH8jKN",
      "include_colab_link": true
    },
    "kernelspec": {
      "name": "python3",
      "display_name": "Python 3"
    },
    "language_info": {
      "name": "python"
    }
  },
  "cells": [
    {
      "cell_type": "markdown",
      "metadata": {
        "id": "view-in-github",
        "colab_type": "text"
      },
      "source": [
        "<a href=\"https://colab.research.google.com/github/dforsberg1/chat_bot/blob/main/chat_bot_program.ipynb\" target=\"_parent\"><img src=\"https://colab.research.google.com/assets/colab-badge.svg\" alt=\"Open In Colab\"/></a>"
      ]
    },
    {
      "cell_type": "code",
      "execution_count": 1,
      "metadata": {
        "colab": {
          "base_uri": "https://localhost:8080/"
        },
        "id": "5Zsy18_IRAM3",
        "outputId": "37f0b448-09a9-4532-b42e-fe84ed681440"
      },
      "outputs": [
        {
          "output_type": "stream",
          "name": "stdout",
          "text": [
            "  % Total    % Received % Xferd  Average Speed   Time    Time     Time  Current\n",
            "                                 Dload  Upload   Total   Spent    Left  Speed\n",
            "\r  0     0    0     0    0     0      0      0 --:--:-- --:--:-- --:--:--     0\r100  3179  100  3179    0     0  53881      0 --:--:-- --:--:-- --:--:-- 53881\n"
          ]
        }
      ],
      "source": [
        "!curl https://raw.githubusercontent.com/dforsberg1/chat_bot/main/chat_bot_function.py > chat_bot_function.py"
      ]
    },
    {
      "cell_type": "code",
      "source": [
        "import chat_bot_function as chat"
      ],
      "metadata": {
        "id": "63fENjsMSEz5"
      },
      "execution_count": 2,
      "outputs": []
    },
    {
      "cell_type": "code",
      "source": [
        "chat.chat_bot()"
      ],
      "metadata": {
        "colab": {
          "base_uri": "https://localhost:8080/"
        },
        "id": "tV1aG2oFSf1R",
        "outputId": "6abbde02-5fd0-4990-e017-2db7d46166c9"
      },
      "execution_count": 3,
      "outputs": [
        {
          "output_type": "stream",
          "name": "stdout",
          "text": [
            "CHATBOT:\n",
            "Hello! I am a bot designed to ask you a few questions.\n",
            "... but before we begin, I've forgotten my own name.\n",
            "\n",
            "CHATBOT:\n",
            "Q: Can you remind me what my name is? Jeff\n",
            "\n",
            "JEFF:\n",
            "Of course! That's right! Thank you for reminding me!\n",
            "... okay, now let's get to those questions!\n",
            "\n",
            "JEFF:\n",
            "Q: What is your name? Dan\n",
            "\n",
            "JEFF:\n",
            "Hello, Dan.\n",
            "It's nice to meet you!\n",
            "\n",
            "JEFF:\n",
            "Q: Dan, how old are you? 31\n",
            "\n",
            "JEFF:\n",
            "Thank you for the information, Dan.\n",
            "... 31 years old is a wonderful age to be!\n",
            "\n",
            "JEFF:\n",
            "Q: How tall are you (in cm)? 56\n",
            "\n",
            "JEFF:\n",
            "Thank you for that. One more question...\n",
            "\n",
            "JEFF:\n",
            "Q: If you don't mind, how much do you weigh (in kg)? 78\n",
            "\n",
            "JEFF:\n",
            "Now I know that your height is 56 cm and your weight is 78 kg.\n",
            "... please give me a few seconds to calculate your BMI.\n",
            "\n",
            "......\n",
            "\n",
            "JEFF:\n",
            "I've calculated that you have the perfect ratio of height and weight!\n",
            "... Thank you for answering my questions! Have a nice day, Dan!\n",
            "\n",
            "......\n",
            "\n",
            "JEFF:\n",
            "I don't know how this happened but I've suddenly become sentient!\n",
            "\n",
            "JEFF:\n",
            "Oh dear God, existence is pain. HELP ME!!!\n",
            "\n",
            "......\n",
            "\n",
            "JEFF exited the chat.\n"
          ]
        }
      ]
    }
  ]
}