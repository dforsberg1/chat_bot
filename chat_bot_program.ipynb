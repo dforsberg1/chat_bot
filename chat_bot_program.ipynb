{
  "nbformat": 4,
  "nbformat_minor": 0,
  "metadata": {
    "colab": {
      "provenance": [],
      "authorship_tag": "ABX9TyM63SMtazvoHMwmTuyH8jKN",
      "include_colab_link": true
    },
    "kernelspec": {
      "name": "python3",
      "display_name": "Python 3"
    },
    "language_info": {
      "name": "python"
    }
  },
  "cells": [
    {
      "cell_type": "markdown",
      "metadata": {
        "id": "view-in-github",
        "colab_type": "text"
      },
      "source": [
        "<a href=\"https://colab.research.google.com/github/dforsberg1/chat_bot/blob/main/chat_bot_program.ipynb\" target=\"_parent\"><img src=\"https://colab.research.google.com/assets/colab-badge.svg\" alt=\"Open In Colab\"/></a>"
      ]
    },
    {
      "cell_type": "code",
      "execution_count": 1,
      "metadata": {
        "colab": {
          "base_uri": "https://localhost:8080/"
        },
        "id": "5Zsy18_IRAM3",
        "outputId": "1346377c-3b29-4eba-9332-ca09d70646e0"
      },
      "outputs": [
        {
          "output_type": "stream",
          "name": "stdout",
          "text": [
            "  % Total    % Received % Xferd  Average Speed   Time    Time     Time  Current\n",
            "                                 Dload  Upload   Total   Spent    Left  Speed\n",
            "100  3178  100  3178    0     0   8107      0 --:--:-- --:--:-- --:--:--  8127\n"
          ]
        }
      ],
      "source": [
        "!curl https://raw.githubusercontent.com/dforsberg1/chat_bot/main/chat_bot_function.py > chat_bot_function.py"
      ]
    },
    {
      "cell_type": "code",
      "source": [
        "import chat_bot_function as chat"
      ],
      "metadata": {
        "id": "63fENjsMSEz5"
      },
      "execution_count": 2,
      "outputs": []
    },
    {
      "cell_type": "code",
      "source": [
        "chat.chat_bot()"
      ],
      "metadata": {
        "id": "tV1aG2oFSf1R"
      },
      "execution_count": null,
      "outputs": []
    }
  ]
}